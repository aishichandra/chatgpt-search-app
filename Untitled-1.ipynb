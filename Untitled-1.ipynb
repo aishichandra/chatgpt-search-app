{
 "cells": [
  {
   "cell_type": "code",
   "execution_count": null,
   "id": "96c7dc18",
   "metadata": {},
   "outputs": [
    {
     "name": "stdout",
     "output_type": "stream",
     "text": [
      "Today, August 24, 2025, a remarkable celestial event is captivating skywatchers: Saturn's rings are tilting to offer a stunning view of their southern face, a phenomenon that hasn't occurred in 15 years. This alignment provides an exceptional opportunity for both seasoned astronomers and casual stargazers to observe the gas giant's iconic rings through even basic telescopes. Adding to the spectacle, Venus and Jupiter are appearing side-by-side in the morning sky, and the Perseid meteor shower is set to peak tomorrow. This cosmic display serves as a reminder of the awe-inspiring wonders above us. ([podego.com](https://www.podego.com/insights/august-2025-good-news-ai-pfas-stories?utm_source=openai))\n",
      "\n",
      "In other positive news, scientists at the University of Cambridge have discovered that specific gut bacteria can absorb and help eliminate PFAS, the \"forever chemicals\" linked to health risks like cancer and fertility issues. In a lab study, mice with humanized gut bacteria successfully excreted PFAS through their feces. This finding offers a promising path toward probiotic treatments that could protect people from PFAS accumulation. ([podego.com](https://www.podego.com/insights/august-2025-good-news-ai-pfas-stories?utm_source=openai))\n",
      "\n",
      "Additionally, engineers at Australia's Royal Melbourne Institute of Technology (RMIT) have developed a new titanium alloy that's 30% cheaper and stronger than industry standards. By replacing expensive vanadium with more abundant elements, the team achieved a more uniform microstructure, which is crucial for aerospace and medical applications. This breakthrough could revolutionize sectors like healthcare and aerospace by providing affordable, high-performance titanium. ([podego.com](https://www.podego.com/insights/august-2025-good-news-ai-pfas-stories?utm_source=openai))\n",
      "\n",
      "For more details on these stories and other uplifting news, you can visit the full article here: ([podego.com](https://www.podego.com/insights/august-2025-good-news-ai-pfas-stories?utm_source=openai)) \n"
     ]
    }
   ],
   "source": [
    "from openai import OpenAI\n",
    "client = OpenAI()\n",
    "\n",
    "completion = client.chat.completions.create(\n",
    "    model=\"gpt-4o-search-preview\",\n",
    "    web_search_options={},  # triggers web search\n",
    "    messages=[\n",
    "        {\n",
    "            \"role\": \"user\",\n",
    "            \"content\": \"What was a positive news story from today? Provide a link to the article.\",\n",
    "        }\n",
    "    ],\n",
    ")\n",
    "\n",
    "# Helper to access either dict-like or attribute-like SDK objects\n",
    "def _get(obj, key, default=None):\n",
    "    try:\n",
    "        if isinstance(obj, dict):\n",
    "            return obj.get(key, default)\n",
    "        return getattr(obj, key, default)\n",
    "    except Exception:\n",
    "        return default\n",
    "\n",
    "msg = completion.choices[0].message\n",
    "content = _get(msg, \"content\", \"\") or \"\"\n",
    "print(content)\n",
    "\n",
    "annotations = _get(msg, \"annotations\", []) or []\n",
    "if not annotations:\n",
    "    print(\"\n",
    "\n",
    "\n",
    "\n",
    "\n",
    "\n",
    "\n",
    "\n",
    "\n",
    "\n",
    "\n",
    "\n",
    "\n",
    "\n",
    "\n",
    "\n",
    "\n",
    "\n",
    "\n",
    "\n",
    "\n",
    "\n",
    "\n",
    "\n",
    "\n",
    "\n",
    "        print(f\"- {ann_type or 'annotation'}: {fallback}\")            fallback = str(ann)        else:            fallback = ann_obj.get('text') or ann_obj.get('label') or str(ann_obj)        if isinstance(ann_obj, dict):        # Fallback: try a few common fields so output isn't empty                continue                print(f\"- {title or url}: {url}\")                url = url_info.get('url') if isinstance(url_info, dict) else getattr(url_info, 'url', None)                title = url_info.get('title') if isinstance(url_info, dict) else getattr(url_info, 'title', None)                # url_info itself may be a dict-like or object-like            if url_info:            url_info = ann_obj.get('url_citation') if isinstance(ann_obj, dict) else getattr(ann, 'url_citation', None)            # url_citation payload may be under 'url_citation' key        if ann_type == 'url_citation':            ann_type = None        except Exception:            ann_type = ann_obj.get(\"type\") if isinstance(ann_obj, dict) else getattr(ann, 'type', None)        try:        ann_obj = ann if isinstance(ann, dict) else getattr(ann, '__dict__', None) or ann        # Support both dict-like and object-like annotation entries    for ann in annotations:    print(\"\n",
    "Citations (from annotations):\")else:No citations found in annotations.\")"
   ]
  }
 ],
 "metadata": {
  "kernelspec": {
   "display_name": "Python 3",
   "language": "python",
   "name": "python3"
  },
  "language_info": {
   "codemirror_mode": {
    "name": "ipython",
    "version": 3
   },
   "file_extension": ".py",
   "mimetype": "text/x-python",
   "name": "python",
   "nbconvert_exporter": "python",
   "pygments_lexer": "ipython3",
   "version": "3.11.9"
  }
 },
 "nbformat": 4,
 "nbformat_minor": 5
}
